{
 "cells": [
  {
   "cell_type": "code",
   "execution_count": null,
   "metadata": {
    "deletable": false,
    "editable": false,
    "run_control": {
     "frozen": true
    }
   },
   "outputs": [],
   "source": []
  },
  {
   "cell_type": "markdown",
   "metadata": {},
   "source": [
    "# Importing modules"
   ]
  },
  {
   "cell_type": "code",
   "execution_count": 1,
   "metadata": {
    "ExecuteTime": {
     "end_time": "2018-05-20T18:50:59.164679Z",
     "start_time": "2018-05-20T18:50:58.716853Z"
    }
   },
   "outputs": [],
   "source": [
    "import time\n",
    "import os\n",
    "import os.path\n",
    "import numpy as np\n",
    "import matplotlib as mpl\n",
    "import matplotlib.pyplot as plt\n",
    "from subprocess import call, run, check_output\n",
    "\n",
    "import pandas\n",
    "from pandas import DataFrame as df\n",
    "import numpy"
   ]
  },
  {
   "cell_type": "markdown",
   "metadata": {},
   "source": [
    "# check your answer"
   ]
  },
  {
   "cell_type": "markdown",
   "metadata": {},
   "source": [
    "## constants"
   ]
  },
  {
   "cell_type": "code",
   "execution_count": 2,
   "metadata": {
    "ExecuteTime": {
     "end_time": "2018-05-20T18:50:59.171612Z",
     "start_time": "2018-05-20T18:50:59.166626Z"
    }
   },
   "outputs": [],
   "source": [
    "output_path = \"output/\"\n",
    "sample_path = \"sample/\"\n",
    "\n",
    "windows = \"a2.exe\"\n",
    "mac = \"./a2\"\n",
    "\n",
    "txt_end = \".txt\""
   ]
  },
  {
   "cell_type": "markdown",
   "metadata": {},
   "source": [
    "## txt list"
   ]
  },
  {
   "cell_type": "code",
   "execution_count": 3,
   "metadata": {
    "ExecuteTime": {
     "end_time": "2018-05-20T18:50:59.297551Z",
     "start_time": "2018-05-20T18:50:59.173644Z"
    }
   },
   "outputs": [],
   "source": [
    "txt_file = []\n",
    "for file in os.listdir(\"./sample\"):\n",
    "    if file.endswith(\".txt\"):\n",
    "        txt_file.append(file[:-4])"
   ]
  },
  {
   "cell_type": "code",
   "execution_count": 4,
   "metadata": {
    "ExecuteTime": {
     "end_time": "2018-05-20T18:50:59.420142Z",
     "start_time": "2018-05-20T18:50:59.303521Z"
    }
   },
   "outputs": [
    {
     "data": {
      "text/plain": [
       "['check-jabberwocky',\n",
       " 'dist-helloworld',\n",
       " 'edits-cats',\n",
       " 'spell-jabberwocky-1M',\n",
       " 'spell-jabberwocky-250K',\n",
       " 'spell-jabberwocky-5M',\n",
       " 'spell-jabberwocky']"
      ]
     },
     "execution_count": 4,
     "metadata": {},
     "output_type": "execute_result"
    }
   ],
   "source": [
    "txt_file"
   ]
  },
  {
   "cell_type": "markdown",
   "metadata": {},
   "source": [
    "## read txt"
   ]
  },
  {
   "cell_type": "markdown",
   "metadata": {},
   "source": [
    "- both sample/ & output have same name.txt"
   ]
  },
  {
   "cell_type": "markdown",
   "metadata": {},
   "source": [
    "### txt line read function"
   ]
  },
  {
   "cell_type": "code",
   "execution_count": 5,
   "metadata": {
    "ExecuteTime": {
     "end_time": "2018-05-20T18:50:59.552619Z",
     "start_time": "2018-05-20T18:50:59.424653Z"
    }
   },
   "outputs": [],
   "source": [
    "def txt_read_line(file_name, folder=\"\", file_type=\".txt\"):\n",
    "    assert(file_name!=\"\")\n",
    "    \n",
    "    res = []\n",
    "    \n",
    "    with open(folder + file_name + file_type) as f:\n",
    "        for line in f:\n",
    "            res.append(line)\n",
    "    return res"
   ]
  },
  {
   "cell_type": "markdown",
   "metadata": {},
   "source": [
    "### compare txt content"
   ]
  },
  {
   "cell_type": "code",
   "execution_count": 6,
   "metadata": {
    "ExecuteTime": {
     "end_time": "2018-05-20T18:50:59.655907Z",
     "start_time": "2018-05-20T18:50:59.556625Z"
    }
   },
   "outputs": [],
   "source": [
    "def reduced_cmp(sample, output, reduce=1):\n",
    "    if reduce==1:\n",
    "        sample = sorted(set(sample))\n",
    "        output = sorted(set(output))\n",
    "    \n",
    "    same = \"same\"\n",
    "    \n",
    "    if len(output) == 0:\n",
    "        return \"empty\"\n",
    "    \n",
    "    for i in np.arange(min(len(sample), len(output))):\n",
    "        if sample[i] != output[i]:\n",
    "            print(i, \"sample:\", sample[i], \" output:\", output[i])\n",
    "            same = \"error\"\n",
    "    \n",
    "    \n",
    "    return same"
   ]
  },
  {
   "cell_type": "markdown",
   "metadata": {},
   "source": [
    "### compare"
   ]
  },
  {
   "cell_type": "code",
   "execution_count": 16,
   "metadata": {
    "ExecuteTime": {
     "end_time": "2018-05-20T18:53:07.301193Z",
     "start_time": "2018-05-20T18:53:07.278578Z"
    },
    "scrolled": false
   },
   "outputs": [
    {
     "name": "stdout",
     "output_type": "stream",
     "text": [
      "task:1 command = check input = jabberwocky\n",
      "       with result =  same\n",
      "task:2 command = dist input = helloworld\n",
      "       with result =  same\n",
      "task:3 command = edits input = cats\n",
      "       with result =  same\n",
      "task:4 command = spell input = jabberwocky\n",
      "       with result =  same\n",
      "task:5 command = spell input = jabberwocky\n",
      "       with result =  same\n",
      "task:6 command = spell input = jabberwocky\n",
      "       with result =  same\n",
      "task:7 command = spell input = jabberwocky\n",
      "       with result =  same\n"
     ]
    }
   ],
   "source": [
    "for i, file in enumerate(txt_file):\n",
    "    sample_txt = txt_read_line(file, sample_path)\n",
    "    output_txt = txt_read_line(file, output_path)\n",
    "    \n",
    "    cmd_lines = file.split(\"-\")\n",
    "    print(\"task:\" + str(i+1), \"command =\", cmd_lines[0], \"input =\", cmd_lines[1])\n",
    "    if cmd_lines[0] in [\"check\", \"spell\"]:\n",
    "        res = reduced_cmp(sample_txt, output_txt, reduce=0)\n",
    "    else:\n",
    "        res = reduced_cmp(sample_txt, output_txt)\n",
    "    print(\"      \", \"with result = \", res)"
   ]
  },
  {
   "cell_type": "code",
   "execution_count": null,
   "metadata": {},
   "outputs": [],
   "source": []
  }
 ],
 "metadata": {
  "hide_input": false,
  "kernelspec": {
   "display_name": "Python 3",
   "language": "python",
   "name": "python3"
  },
  "language_info": {
   "codemirror_mode": {
    "name": "ipython",
    "version": 3
   },
   "file_extension": ".py",
   "mimetype": "text/x-python",
   "name": "python",
   "nbconvert_exporter": "python",
   "pygments_lexer": "ipython3",
   "version": "3.6.3"
  },
  "toc": {
   "nav_menu": {},
   "number_sections": true,
   "sideBar": true,
   "skip_h1_title": false,
   "title_cell": "Table of Contents",
   "title_sidebar": "Contents",
   "toc_cell": false,
   "toc_position": {},
   "toc_section_display": true,
   "toc_window_display": false
  }
 },
 "nbformat": 4,
 "nbformat_minor": 2
}
